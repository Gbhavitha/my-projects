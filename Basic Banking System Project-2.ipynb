{
 "cells": [
  {
   "cell_type": "code",
   "execution_count": 1,
   "id": "27967028-ac5d-4318-ab34-b869893d558f",
   "metadata": {},
   "outputs": [
    {
     "name": "stdout",
     "output_type": "stream",
     "text": [
      "1. Check Balance\n",
      "2. Deposit Money\n",
      "3. Withdraw Money\n",
      "4. Exit\n"
     ]
    },
    {
     "name": "stdin",
     "output_type": "stream",
     "text": [
      "Choose an option:  1\n"
     ]
    },
    {
     "name": "stdout",
     "output_type": "stream",
     "text": [
      "Your current balance is: ,10000\n",
      "1. Check Balance\n",
      "2. Deposit Money\n",
      "3. Withdraw Money\n",
      "4. Exit\n"
     ]
    },
    {
     "name": "stdin",
     "output_type": "stream",
     "text": [
      "Choose an option:  2\n",
      "Enter your  amount   500\n"
     ]
    },
    {
     "name": "stdout",
     "output_type": "stream",
     "text": [
      "You have deposited ,500.0\n",
      "1. Check Balance\n",
      "2. Deposit Money\n",
      "3. Withdraw Money\n",
      "4. Exit\n"
     ]
    },
    {
     "name": "stdin",
     "output_type": "stream",
     "text": [
      "Choose an option:  3\n",
      "Enter  your amount  500\n"
     ]
    },
    {
     "name": "stdout",
     "output_type": "stream",
     "text": [
      "You have withdrawn ,500.0\n",
      "1. Check Balance\n",
      "2. Deposit Money\n",
      "3. Withdraw Money\n",
      "4. Exit\n"
     ]
    },
    {
     "name": "stdin",
     "output_type": "stream",
     "text": [
      "Choose an option:  4\n"
     ]
    },
    {
     "name": "stdout",
     "output_type": "stream",
     "text": [
      " stope loop\n"
     ]
    }
   ],
   "source": [
    "# baking\n",
    "balance = 10000\n",
    "def check_balance():\n",
    "    print(f\"Your current balance is: ,{balance}\")\n",
    "\n",
    "def deposit(amount):\n",
    "    global balance\n",
    "    balance += amount\n",
    "    print(f\"You have deposited ,{amount}\")\n",
    "    \n",
    "def withdraw(amount):\n",
    "    global balance\n",
    "    if amount > balance:\n",
    "        print(\"You don't have money to withdraw\")\n",
    "    else:\n",
    "        balance -= amount\n",
    "        print(f\"You have withdrawn ,{amount}\")\n",
    "while True:\n",
    "    print(\"1. Check Balance\")\n",
    "    print(\"2. Deposit Money\")\n",
    "    print(\"3. Withdraw Money\")\n",
    "    print(\"4. Exit\")\n",
    "    \n",
    "    choice = input(\"Choose an option: \")\n",
    "\n",
    "    if choice == '1':\n",
    "        check_balance()\n",
    "    elif choice == '2':\n",
    "        amount = float(input(\"Enter your  amount  \"))\n",
    "        deposit(amount)\n",
    "    elif choice == '3':\n",
    "        amount = float(input(\"Enter  your amount \"))\n",
    "        withdraw(amount)\n",
    "    elif choice == '4':\n",
    "        print(\" stope loop\")\n",
    "        break\n",
    "    else:\n",
    "        print(\"Invalid option, please try again.\")"
   ]
  },
  {
   "cell_type": "code",
   "execution_count": null,
   "id": "c88012c5-9942-4ffd-9c7f-55883cbf9322",
   "metadata": {},
   "outputs": [],
   "source": []
  }
 ],
 "metadata": {
  "kernelspec": {
   "display_name": "Python 3 (ipykernel)",
   "language": "python",
   "name": "python3"
  },
  "language_info": {
   "codemirror_mode": {
    "name": "ipython",
    "version": 3
   },
   "file_extension": ".py",
   "mimetype": "text/x-python",
   "name": "python",
   "nbconvert_exporter": "python",
   "pygments_lexer": "ipython3",
   "version": "3.12.4"
  }
 },
 "nbformat": 4,
 "nbformat_minor": 5
}
