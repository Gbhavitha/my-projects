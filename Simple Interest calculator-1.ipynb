{
 "cells": [
  {
   "cell_type": "code",
   "execution_count": 1,
   "id": "d3087ade-8ed6-475a-a9ce-5e76e87df9dd",
   "metadata": {},
   "outputs": [],
   "source": [
    "def calculate_simple_interest(principal, rate, time):\n",
    "    simple_interest = (principal * rate * time) / 100\n",
    "    return simple_interest"
   ]
  },
  {
   "cell_type": "code",
   "execution_count": 5,
   "id": "a973e9f0-4cbf-4149-ac6e-01779fbe15ad",
   "metadata": {},
   "outputs": [
    {
     "name": "stdin",
     "output_type": "stream",
     "text": [
      "Enter the principal amount  1000\n",
      "Enter the rate of interest  5\n",
      "Enter the time period  1.5\n"
     ]
    },
    {
     "name": "stdout",
     "output_type": "stream",
     "text": [
      "\n",
      "Simple Interest: 75.00\n",
      "Total Amount to be Paid: 1075.00\n"
     ]
    }
   ],
   "source": [
    "\n",
    "principal = int(input(\"Enter the principal amount \"))\n",
    "rate = int(input(\"Enter the rate of interest \"))\n",
    "time = float(input(\"Enter the time period \"))\n",
    "\n",
    "# interest\n",
    "interest = calculate_simple_interest(principal, rate, time)\n",
    "\n",
    "# total amount has to paid\n",
    "total_amount = principal + interest\n",
    "\n",
    "# results\n",
    "print(f\"\\nSimple Interest: {interest:.2f}\")\n",
    "print(f\"Total Amount to be Paid: {total_amount:.2f}\")"
   ]
  },
  {
   "cell_type": "code",
   "execution_count": null,
   "id": "a4c0b553-7616-414c-a727-d4b30f81376b",
   "metadata": {},
   "outputs": [],
   "source": []
  }
 ],
 "metadata": {
  "kernelspec": {
   "display_name": "Python 3 (ipykernel)",
   "language": "python",
   "name": "python3"
  },
  "language_info": {
   "codemirror_mode": {
    "name": "ipython",
    "version": 3
   },
   "file_extension": ".py",
   "mimetype": "text/x-python",
   "name": "python",
   "nbconvert_exporter": "python",
   "pygments_lexer": "ipython3",
   "version": "3.12.4"
  }
 },
 "nbformat": 4,
 "nbformat_minor": 5
}
