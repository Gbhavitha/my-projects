{
 "cells": [
  {
   "cell_type": "code",
   "execution_count": 65,
   "id": "6b81bea1-78e7-4386-9a67-252fd93bd427",
   "metadata": {},
   "outputs": [
    {
     "name": "stdout",
     "output_type": "stream",
     "text": [
      "arun: Phone: ['phone'], Email: ['email']\n",
      "ram: Phone: ['phone'], Email: ['email']\n",
      "Contact for Cherry added/updated successfully!\n",
      "Name: arun, Phone: 9893798933, Email: arun@gmail.com\n",
      "{'arun': {'phone': '9893798933', 'email': 'arun@gmail.com'}, 'Cherry': {'phone': '6768678578', 'email': 'cherry@gmail.com'}}\n"
     ]
    }
   ],
   "source": [
    "\n",
    " contacts = {\"arun\": {\"phone\": \"9893798933\", \"email\": \"arun@gmail.com\"},\n",
    "               \"ram\":{ \"phone\": \"9374984049\", \"email\": \"ram@yahoo.com\"}\n",
    "            }\n",
    "#displaying\n",
    "def display():\n",
    "    for name, details in contacts.items():\n",
    "        print(f\"{name}: Phone: {['phone']}, Email: {['email']}\")\n",
    "        \n",
    "def add(name, phone, email):\n",
    "    contacts[name] = {'phone': phone, 'email': email}\n",
    "    print(f\"Contact for {name} added/updated successfully!\")\n",
    "#search\n",
    "def search (name):\n",
    "    if name in contacts:\n",
    "        print(f\"Name: {name}, Phone: {contacts[name]['phone']}, Email: {contacts[name]['email']}\")\n",
    "    else:\n",
    "        print(f\"No contact found for {name}\")\n",
    "display()  # Displays all contacts\n",
    "add('Cherry', '6768678578', 'cherry@gmail.com')  \n",
    "search('arun')  \n",
    "def filter():\n",
    "    gmail = {name: details for name, details in contacts.items() if 'gmail.com' in details['email']}\n",
    "    print(gmail)    \n",
    "filter()"
   ]
  },
  {
   "cell_type": "code",
   "execution_count": null,
   "id": "0502f303-1109-47da-877f-c898c06e823b",
   "metadata": {},
   "outputs": [],
   "source": []
  },
  {
   "cell_type": "code",
   "execution_count": null,
   "id": "36032934-a3ad-47de-b902-eb146a88068d",
   "metadata": {},
   "outputs": [],
   "source": []
  }
 ],
 "metadata": {
  "kernelspec": {
   "display_name": "Python 3 (ipykernel)",
   "language": "python",
   "name": "python3"
  },
  "language_info": {
   "codemirror_mode": {
    "name": "ipython",
    "version": 3
   },
   "file_extension": ".py",
   "mimetype": "text/x-python",
   "name": "python",
   "nbconvert_exporter": "python",
   "pygments_lexer": "ipython3",
   "version": "3.12.4"
  }
 },
 "nbformat": 4,
 "nbformat_minor": 5
}
