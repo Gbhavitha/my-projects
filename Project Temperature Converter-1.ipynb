{
 "cells": [
  {
   "cell_type": "code",
   "execution_count": 13,
   "id": "9e72c26c-d3de-4bfb-89cd-cdc36535d3a2",
   "metadata": {},
   "outputs": [
    {
     "name": "stdin",
     "output_type": "stream",
     "text": [
      "Enter a temperature:  500\n",
      "Enter temperature unit (C for Celsius, F for Fahrenheit, K for Kelvin):  c\n"
     ]
    },
    {
     "name": "stdout",
     "output_type": "stream",
     "text": [
      "500.0°C is equal to 932.00°F\n",
      "500.0°C is equal to 773.15 K\n"
     ]
    }
   ],
   "source": [
    "t = float(input(\"Enter a temperature: \"))\n",
    "unit = input(\"Enter temperature unit (C for Celsius, F for Fahrenheit, K for Kelvin): \").upper()\n",
    "if unit==\"C\":\n",
    "    print(f\"{t }°C is equal to {(t * 9/5) + 32:.2f}°F\")\n",
    "    print(f\"{t}°C is equal to {t + 273.15:.2f} K\")\n",
    "elif unit==\"F\":\n",
    "    print(f\"{temp}°F is equal to {(temp - 32) * 5/9:.2f}°C\")\n",
    "    print(f\"{temp}°F is equal to {(temp - 32) * 5/9 + 273.15:.2f} K\")\n",
    "elif unit==\"K\":\n",
    "    print(f\"{temp}°K is equal to {temp - 273.15:.2f}°C\")\n",
    "    print(f\"{temp}°K is equal to {(temp - 273.15) * 9/5 + 32:.2f} F\")\n",
    "else:\n",
    "    print(\"Invalid unit entered. Please enter C, F, or K.\")"
   ]
  },
  {
   "cell_type": "code",
   "execution_count": null,
   "id": "7d2db834-6f2a-42de-bd58-6ee5d2b94c91",
   "metadata": {},
   "outputs": [],
   "source": []
  }
 ],
 "metadata": {
  "kernelspec": {
   "display_name": "Python 3 (ipykernel)",
   "language": "python",
   "name": "python3"
  },
  "language_info": {
   "codemirror_mode": {
    "name": "ipython",
    "version": 3
   },
   "file_extension": ".py",
   "mimetype": "text/x-python",
   "name": "python",
   "nbconvert_exporter": "python",
   "pygments_lexer": "ipython3",
   "version": "3.12.4"
  }
 },
 "nbformat": 4,
 "nbformat_minor": 5
}
