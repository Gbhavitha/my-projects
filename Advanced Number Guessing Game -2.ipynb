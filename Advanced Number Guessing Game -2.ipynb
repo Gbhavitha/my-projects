{
 "cells": [
  {
   "cell_type": "code",
   "execution_count": null,
   "id": "187ea968-74f0-4483-b607-6369e28360c9",
   "metadata": {},
   "outputs": [],
   "source": [
    "import random\n",
    "def start_game():\n",
    "    number_to_guess = random.randint(1, 10)\n",
    "    attempts = 0\n",
    "\n",
    "    while True:\n",
    "        guess = int(input(\"Guess a number between 1 and 100: \"))\n",
    "        attempts += 1\n",
    "        difference = abs(number_to_guess - guess)\n",
    "\n",
    "        if guess == number_to_guess:\n",
    "            print(f\"Congratulations! You guessed the number in {attempts} attempts.\")\n",
    "            score = max(100 - attempts, 0)\n",
    "            print(f\"Your score: {score}\")\n",
    "            break\n",
    "        elif difference >= 20:\n",
    "            print(\"Too cold!\")\n",
    "        elif 10 <= difference < 20:\n",
    "            print(\"You're getting warmer.\")\n",
    "        elif 5 <= difference < 10:\n",
    "            print(\"Very warm!\")\n",
    "        else:\n",
    "            print(\"You're almost there!\")\n",
    "# Run the game\n",
    "start_game()\n"
   ]
  },
  {
   "cell_type": "code",
   "execution_count": null,
   "id": "8eba8fb8-c9b1-4600-80dc-c1f78cddf097",
   "metadata": {},
   "outputs": [],
   "source": []
  },
  {
   "cell_type": "code",
   "execution_count": null,
   "id": "dfd6df77-cf1f-427e-8819-b777baa1e613",
   "metadata": {},
   "outputs": [],
   "source": []
  },
  {
   "cell_type": "code",
   "execution_count": null,
   "id": "883c6c11-a66c-4560-bb1c-8ba8e4a91ab8",
   "metadata": {},
   "outputs": [],
   "source": []
  },
  {
   "cell_type": "code",
   "execution_count": null,
   "id": "85b9d007-26b1-4e51-b8da-cd8aeab67354",
   "metadata": {},
   "outputs": [],
   "source": []
  }
 ],
 "metadata": {
  "kernelspec": {
   "display_name": "Python 3 (ipykernel)",
   "language": "python",
   "name": "python3"
  },
  "language_info": {
   "codemirror_mode": {
    "name": "ipython",
    "version": 3
   },
   "file_extension": ".py",
   "mimetype": "text/x-python",
   "name": "python",
   "nbconvert_exporter": "python",
   "pygments_lexer": "ipython3",
   "version": "3.12.4"
  }
 },
 "nbformat": 4,
 "nbformat_minor": 5
}
