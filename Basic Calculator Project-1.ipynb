{
 "cells": [
  {
   "cell_type": "code",
   "execution_count": 9,
   "id": "4a56589b-6b98-4894-9e4c-ccde01046c0c",
   "metadata": {},
   "outputs": [
    {
     "name": "stdin",
     "output_type": "stream",
     "text": [
      "Enter the first number:  100\n",
      "Enter the second number:  100\n",
      "Enter the operation (+, -, *, /):  +\n"
     ]
    },
    {
     "name": "stdout",
     "output_type": "stream",
     "text": [
      "The result of 100.0 + 100.0 is 200.0\n"
     ]
    }
   ],
   "source": [
    "\n",
    "num1 = float(input(\"Enter the first number: \"))\n",
    "num2 = float(input(\"Enter the second number: \"))\n",
    "operation = input(\"Enter the operation (+, -, *, /): \")\n",
    "# Performs of the operation \n",
    "if operation == '+':\n",
    "    result = num1 + num2\n",
    "    print(f\"The result of {num1} + {num2} is {result}\")\n",
    "elif operation == '-':\n",
    "    result = num1 - num2\n",
    "    print(f\"The result of {num1} - {num2} is {result}\")\n",
    "elif operation == '*':\n",
    "    result = num1 * num2\n",
    "    print(f\"The result of {num1} * {num2} is {result}\")\n",
    "elif operation == '/':\n",
    "    #error handling\n",
    "    if num2 == 0:\n",
    "        print(\"Error: Division by zero is not allowed.\")\n",
    "    else:\n",
    "        result = num1 / num2\n",
    "        print(f\"The result of {num1} / {num2} is {result}\")\n",
    "else:\n",
    "    print(\"Invalid operation. Please enter one of +, -, *, /.\")\n",
    "    "
   ]
  },
  {
   "cell_type": "code",
   "execution_count": null,
   "id": "1b3aa2ef-a8d2-494e-8b12-c1d1638602f5",
   "metadata": {},
   "outputs": [],
   "source": []
  }
 ],
 "metadata": {
  "kernelspec": {
   "display_name": "Python 3 (ipykernel)",
   "language": "python",
   "name": "python3"
  },
  "language_info": {
   "codemirror_mode": {
    "name": "ipython",
    "version": 3
   },
   "file_extension": ".py",
   "mimetype": "text/x-python",
   "name": "python",
   "nbconvert_exporter": "python",
   "pygments_lexer": "ipython3",
   "version": "3.12.4"
  }
 },
 "nbformat": 4,
 "nbformat_minor": 5
}
