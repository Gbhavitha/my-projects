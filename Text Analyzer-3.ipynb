{
 "cells": [
  {
   "cell_type": "code",
   "execution_count": 1,
   "id": "67eb39a5-13fd-4fa4-a7b7-37a24666b3f0",
   "metadata": {},
   "outputs": [
    {
     "name": "stdin",
     "output_type": "stream",
     "text": [
      "Enter a paragraph of text:  i love my india\n"
     ]
    },
    {
     "name": "stdout",
     "output_type": "stream",
     "text": [
      "\n",
      " Text Analysis \n",
      "Total words: 4\n",
      "Total characters (including spaces): 15\n",
      "Unique words: 4\n",
      "\n",
      "Word Frequencies:\n",
      "i: 1 times\n",
      "love: 1 times\n",
      "my: 1 times\n",
      "india: 1 times\n"
     ]
    }
   ],
   "source": [
    "# defining a function for the text Analysis\n",
    "def analyze_text(text):\n",
    "    try:\n",
    "        words = text.split()\n",
    "        total_characters = len(text)\n",
    "        unique_words = set(words)\n",
    "        word_frequencies = {}\n",
    "        for word in words:\n",
    "            word = word.lower()\n",
    "            if word in word_frequencies:\n",
    "                word_frequencies[word] += 1\n",
    "            else:\n",
    "                word_frequencies[word] = 1\n",
    "# printing output from here\n",
    "        print(\"\\n Text Analysis \")\n",
    "        print(f\"Total words: {len(words)}\")\n",
    "        print(f\"Total characters (including spaces): {total_characters}\")\n",
    "        print(f\"Unique words: {len(unique_words)}\")\n",
    "\n",
    "        print(\"\\nWord Frequencies:\")\n",
    "        for word, count in word_frequencies.items():\n",
    "            print(f\"{word}: {count} times\")\n",
    "    \n",
    "    except Exception as e:\n",
    "        print(f\"An error occurred: {e}\")\n",
    "def get_text():\n",
    "    try:\n",
    "        text = input(\"Enter a paragraph of text: \")\n",
    "        if not text.strip():\n",
    "            raise ValueError(\"Error: Text cannot be empty.\")\n",
    "        return text\n",
    "    except ValueError as e:\n",
    "        print(e)\n",
    "        return None\n",
    "\n",
    "\n",
    "# function loops \n",
    "def analyzer():\n",
    "    while True:\n",
    "        text = get_text()\n",
    "        if text:\n",
    "            analyze_text(text)\n",
    "            break\n",
    "analyzer()"
   ]
  },
  {
   "cell_type": "code",
   "execution_count": null,
   "id": "a8a9bb5b-5256-4011-a61a-0dbe5b7813c8",
   "metadata": {},
   "outputs": [],
   "source": []
  }
 ],
 "metadata": {
  "kernelspec": {
   "display_name": "Python 3 (ipykernel)",
   "language": "python",
   "name": "python3"
  },
  "language_info": {
   "codemirror_mode": {
    "name": "ipython",
    "version": 3
   },
   "file_extension": ".py",
   "mimetype": "text/x-python",
   "name": "python",
   "nbconvert_exporter": "python",
   "pygments_lexer": "ipython3",
   "version": "3.12.4"
  }
 },
 "nbformat": 4,
 "nbformat_minor": 5
}
