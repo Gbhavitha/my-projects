{
 "cells": [
  {
   "cell_type": "code",
   "execution_count": 1,
   "id": "035c0af8-7502-486a-8e86-830aa572e9e4",
   "metadata": {},
   "outputs": [],
   "source": [
    "total_score = 0\n",
    "num_subjects = 4\n",
    "subjects = [\"Math\", \"Science\", \"English\",\"social\"]"
   ]
  },
  {
   "cell_type": "code",
   "execution_count": 3,
   "id": "5280d27b-5ab4-4550-9047-7d134ad2cf50",
   "metadata": {},
   "outputs": [
    {
     "name": "stdin",
     "output_type": "stream",
     "text": [
      "Enter Math score:  90\n",
      "Enter Science score:  70\n",
      "Enter English score:  50\n",
      "Enter social score:  90\n"
     ]
    }
   ],
   "source": [
    "for subject in subjects:\n",
    "    score = int(input(f\"Enter {subject} score: \"))\n",
    "    total_score += score\n",
    "\n",
    "# Calculate average score\n",
    "average_score = total_score / num_subjects\n",
    "\n"
   ]
  },
  {
   "cell_type": "code",
   "execution_count": 5,
   "id": "a0aab6c4-0098-404d-babd-d4c78d58f6f5",
   "metadata": {},
   "outputs": [],
   "source": [
    "if 90 <= average_score <= 100:\n",
    "    grade = 'A'\n",
    "    feedback = \"Excellent\"\n",
    "elif 80 <= average_score < 90:\n",
    "    grade = 'B'\n",
    "    feedback = \" very Good\"\n",
    "elif 70 <= average_score < 80:\n",
    "    grade = 'C'\n",
    "    feedback = \" Good \"\n",
    "elif 60 <= average_score < 70:\n",
    "    grade = 'D'\n",
    "    feedback = \" Bad \"\n",
    "else:\n",
    "    grade = 'F'\n",
    "    feedback = \"Failed\""
   ]
  },
  {
   "cell_type": "code",
   "execution_count": 23,
   "id": "397edea6-03a3-4dc5-ab49-6772fa69f561",
   "metadata": {},
   "outputs": [
    {
     "name": "stdout",
     "output_type": "stream",
     "text": [
      "Your average score is: 75.0\n",
      "Your grade is: C\n",
      "Feedback:  Good \n"
     ]
    }
   ],
   "source": [
    "print(f\"Your average score is: {average_score}\")\n",
    "print(f\"Your grade is: {grade}\")\n",
    "print(f\"Feedback: {feedback}\")\n"
   ]
  },
  {
   "cell_type": "code",
   "execution_count": null,
   "id": "5c32f6d5-56d2-4054-b393-71d3b2b0d2a6",
   "metadata": {},
   "outputs": [],
   "source": []
  }
 ],
 "metadata": {
  "kernelspec": {
   "display_name": "Python 3 (ipykernel)",
   "language": "python",
   "name": "python3"
  },
  "language_info": {
   "codemirror_mode": {
    "name": "ipython",
    "version": 3
   },
   "file_extension": ".py",
   "mimetype": "text/x-python",
   "name": "python",
   "nbconvert_exporter": "python",
   "pygments_lexer": "ipython3",
   "version": "3.12.4"
  }
 },
 "nbformat": 4,
 "nbformat_minor": 5
}
