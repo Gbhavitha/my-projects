{
 "cells": [
  {
   "cell_type": "code",
   "execution_count": 1,
   "id": "ab16fd67-51d3-42e1-a0c7-e3def22c95a0",
   "metadata": {},
   "outputs": [
    {
     "name": "stdout",
     "output_type": "stream",
     "text": [
      "press 1 = Add Income \n",
      "press 2 = Add Expense\n",
      "press 3 = Calculate Monthly Savings\n",
      "press 4 = Exit\n"
     ]
    },
    {
     "name": "stdin",
     "output_type": "stream",
     "text": [
      "Enter 1-4 number:  1\n",
      "Enter income amount:  10000\n"
     ]
    },
    {
     "name": "stdout",
     "output_type": "stream",
     "text": [
      "Income added successfully.\n",
      "press 1 = Add Income \n",
      "press 2 = Add Expense\n",
      "press 3 = Calculate Monthly Savings\n",
      "press 4 = Exit\n"
     ]
    },
    {
     "name": "stdin",
     "output_type": "stream",
     "text": [
      "Enter 1-4 number:  2\n",
      "Enter expense amount:  5000\n"
     ]
    },
    {
     "name": "stdout",
     "output_type": "stream",
     "text": [
      "Expense added successfully.\n",
      "press 1 = Add Income \n",
      "press 2 = Add Expense\n",
      "press 3 = Calculate Monthly Savings\n",
      "press 4 = Exit\n"
     ]
    },
    {
     "name": "stdin",
     "output_type": "stream",
     "text": [
      "Enter 1-4 number:  3\n"
     ]
    },
    {
     "name": "stdout",
     "output_type": "stream",
     "text": [
      "Your monthly savings: $5000.00\n",
      "press 1 = Add Income \n",
      "press 2 = Add Expense\n",
      "press 3 = Calculate Monthly Savings\n",
      "press 4 = Exit\n"
     ]
    },
    {
     "name": "stdin",
     "output_type": "stream",
     "text": [
      "Enter 1-4 number:  4\n"
     ]
    },
    {
     "name": "stdout",
     "output_type": "stream",
     "text": [
      "Exit\n"
     ]
    }
   ],
   "source": [
    "import csv\n",
    "import os\n",
    "\n",
    "def add_income(income):\n",
    "    with open(\"Personal_budget_tracker.csv\", \"a\", newline='') as fh:\n",
    "        csv_writer = csv.writer(fh)\n",
    "        csv_writer.writerow(['Income', income])\n",
    "\n",
    "def add_expense(expense):\n",
    "    with open(\"Personal_budget_tracker.csv\", \"a\", newline='') as fh:\n",
    "        csv_writer = csv.writer(fh)\n",
    "        csv_writer.writerow(['Expense', expense])\n",
    "\n",
    "def calculate_savings():\n",
    "    total_income = 0\n",
    "    total_expense = 0\n",
    "\n",
    "    if not os.path.exists('Personal_budget_tracker.csv'):\n",
    "        print(\"No records found\")\n",
    "        return\n",
    "\n",
    "    with open(\"Personal_budget_tracker.csv\", \"r\", newline='') as fh:\n",
    "        reader = csv.reader(fh)\n",
    "        for row in reader:\n",
    "            if row[0] == 'Income':\n",
    "                total_income += float(row[1])\n",
    "            elif row[0] == 'Expense':\n",
    "                total_expense += float(row[1])\n",
    "    \n",
    "    savings = total_income - total_expense\n",
    "    return savings\n",
    "\n",
    "def main():\n",
    "    while True:\n",
    "        print(\"press 1 = Add Income \")\n",
    "        print(\"press 2 = Add Expense\")\n",
    "        print(\"press 3 = Calculate Monthly Savings\")\n",
    "        print(\"press 4 = Exit\")\n",
    "        temp = int(input(\"Enter 1-4 number: \"))\n",
    "\n",
    "        if temp == 1:\n",
    "            income = float(input(\"Enter income amount: \"))\n",
    "            add_income(income)\n",
    "            print(\"Income added successfully.\")\n",
    "\n",
    "        elif temp == 2:\n",
    "            expense = float(input(\"Enter expense amount: \"))\n",
    "            add_expense(expense)\n",
    "            print(\"Expense added successfully.\")\n",
    "\n",
    "        elif temp == 3:\n",
    "            savings = calculate_savings()\n",
    "            if savings is not None:\n",
    "                print(f\"Your monthly savings: ${savings:.2f}\")\n",
    "\n",
    "        elif temp == 4:\n",
    "            print(\"Exit\")\n",
    "            break\n",
    "\n",
    "        else:\n",
    "            print(\"Invalid. Please select a number between 1-4.\")\n",
    "if __name__ == \"__main__\":\n",
    "    main()\n"
   ]
  },
  {
   "cell_type": "code",
   "execution_count": null,
   "id": "41ef2314-3fe9-4222-8fea-2d19bca69494",
   "metadata": {},
   "outputs": [],
   "source": []
  }
 ],
 "metadata": {
  "kernelspec": {
   "display_name": "Python 3 (ipykernel)",
   "language": "python",
   "name": "python3"
  },
  "language_info": {
   "codemirror_mode": {
    "name": "ipython",
    "version": 3
   },
   "file_extension": ".py",
   "mimetype": "text/x-python",
   "name": "python",
   "nbconvert_exporter": "python",
   "pygments_lexer": "ipython3",
   "version": "3.12.4"
  }
 },
 "nbformat": 4,
 "nbformat_minor": 5
}
