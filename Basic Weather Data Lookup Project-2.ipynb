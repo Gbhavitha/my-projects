{
 "cells": [
  {
   "cell_type": "code",
   "execution_count": 9,
   "id": "1039cfe6-58c7-48ef-9ef8-c3288c6c6cfa",
   "metadata": {},
   "outputs": [
    {
     "name": "stdin",
     "output_type": "stream",
     "text": [
      "Enter a city name (or 'exit'):  Bangalore\n"
     ]
    },
    {
     "name": "stdout",
     "output_type": "stream",
     "text": [
      "Weather in Bangalore: 25°C, Sunny.\n"
     ]
    },
    {
     "name": "stdin",
     "output_type": "stream",
     "text": [
      "Enter a city name (or 'exit'):  kerala\n"
     ]
    },
    {
     "name": "stdout",
     "output_type": "stream",
     "text": [
      "Sorry, no weather data  is available for the  kerala. Please try again\n"
     ]
    },
    {
     "name": "stdin",
     "output_type": "stream",
     "text": [
      "Enter a city name (or 'exit'):  exit\n"
     ]
    },
    {
     "name": "stdout",
     "output_type": "stream",
     "text": [
      "Goodbye!\n"
     ]
    }
   ],
   "source": [
    "\n",
    "weather_data = {'Bangalore': {'temperature': 25, 'condition': 'Sunny'},\n",
    "                'New Delhi': {'temperature': 30, 'condition': 'Hot'},\n",
    "                'Mumbai ': {'temperature': 18, 'condition': 'Cloudy'},\n",
    "                'Chennai': {'temperature': 22, 'condition': 'Rainy'}}\n",
    "format_weather = lambda city, data: f\"Weather in {city}: {data['temperature']}°C, {data['condition']}.\"\n",
    "while True:\n",
    "    city = input(\"Enter a city name (or 'exit'): \")\n",
    "    \n",
    "    if city.lower() == 'exit':\n",
    "        print(\"Goodbye!\")\n",
    "        break\n",
    "    if city in weather_data:\n",
    "        print(format_weather(city, weather_data[city]))\n",
    "    else:\n",
    "        print(f\"Sorry, no weather data  is available for the  {city}. Please try again\")\n"
   ]
  },
  {
   "cell_type": "code",
   "execution_count": null,
   "id": "7e408c24-752f-4ae4-a82e-bef9fc56725b",
   "metadata": {},
   "outputs": [],
   "source": []
  }
 ],
 "metadata": {
  "kernelspec": {
   "display_name": "Python 3 (ipykernel)",
   "language": "python",
   "name": "python3"
  },
  "language_info": {
   "codemirror_mode": {
    "name": "ipython",
    "version": 3
   },
   "file_extension": ".py",
   "mimetype": "text/x-python",
   "name": "python",
   "nbconvert_exporter": "python",
   "pygments_lexer": "ipython3",
   "version": "3.12.4"
  }
 },
 "nbformat": 4,
 "nbformat_minor": 5
}
