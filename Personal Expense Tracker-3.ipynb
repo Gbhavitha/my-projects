{
 "cells": [
  {
   "cell_type": "code",
   "execution_count": 17,
   "id": "771c5ffa-df83-4a13-84b2-22dd595b8270",
   "metadata": {},
   "outputs": [
    {
     "name": "stdout",
     "output_type": "stream",
     "text": [
      "Expense Summary by Category:\n",
      "food: 1000\n",
      "transport: 2000\n",
      "stay: 1500\n"
     ]
    }
   ],
   "source": [
    "list = [('groceries', 1000, 'food'), \n",
    "       ('bus_tickets', 2000, 'transport'), \n",
    "         ('rooms', 1500, 'stay')]\n",
    "categories = {items[2] for items in list}\n",
    "summary = {category: sum(list[1] for list in list if list[2] == category)\n",
    "                       for category in categories}\n",
    "print(\"Expense Summary by Category:\")\n",
    "for category, total in summary.items():\n",
    "    print(f\"{category}: {total}\")"
   ]
  },
  {
   "cell_type": "code",
   "execution_count": null,
   "id": "83db18f3-7a66-4aae-a610-06df80d41a97",
   "metadata": {},
   "outputs": [],
   "source": [
    "\n"
   ]
  },
  {
   "cell_type": "code",
   "execution_count": null,
   "id": "f6943bcc-d0e8-4954-9bf1-acfb15ec2b80",
   "metadata": {},
   "outputs": [],
   "source": []
  },
  {
   "cell_type": "code",
   "execution_count": null,
   "id": "f90c9cdc-cf40-4b15-aef7-9859dd665c72",
   "metadata": {},
   "outputs": [],
   "source": []
  },
  {
   "cell_type": "code",
   "execution_count": null,
   "id": "163de841-b80c-4b16-a0ab-dd89101db9bf",
   "metadata": {},
   "outputs": [],
   "source": []
  }
 ],
 "metadata": {
  "kernelspec": {
   "display_name": "Python 3 (ipykernel)",
   "language": "python",
   "name": "python3"
  },
  "language_info": {
   "codemirror_mode": {
    "name": "ipython",
    "version": 3
   },
   "file_extension": ".py",
   "mimetype": "text/x-python",
   "name": "python",
   "nbconvert_exporter": "python",
   "pygments_lexer": "ipython3",
   "version": "3.12.4"
  }
 },
 "nbformat": 4,
 "nbformat_minor": 5
}
