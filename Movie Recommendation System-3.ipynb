{
 "cells": [
  {
   "cell_type": "code",
   "execution_count": 3,
   "id": "4ad7e8c8-42d7-4e78-969c-4049e6e41fc8",
   "metadata": {},
   "outputs": [
    {
     "name": "stdin",
     "output_type": "stream",
     "text": [
      "Enter user name:  Ramu\n"
     ]
    },
    {
     "name": "stdout",
     "output_type": "stream",
     "text": [
      "Ramu's recommended movies are: Baahubhali, Pushpa, Harrypotter\n"
     ]
    },
    {
     "name": "stdin",
     "output_type": "stream",
     "text": [
      "To continue for movie recommendations, enter YES. To exit, enter NO:  YES\n",
      "Enter user name:  Rich\n"
     ]
    },
    {
     "name": "stdout",
     "output_type": "stream",
     "text": [
      "Rich's recommended movies are: Baahubhali, Pushpa, Nemo\n"
     ]
    },
    {
     "name": "stdin",
     "output_type": "stream",
     "text": [
      "To continue for movie recommendations, enter YES. To exit, enter NO:  NO\n"
     ]
    }
   ],
   "source": [
    "#movies list\n",
    "movies = [\n",
    "    {\"Movie Name\": \"RRR\", \"genre\": \"action\"},\n",
    "    {\"Movie Name\": \"Baahubhali\", \"genre\": \"Drama\"},\n",
    "    {\"Movie Name\": \"Pushpa\", \"genre\": \"Drama\"},\n",
    "    {\"Movie Name\": \"AA entlo \", \"genre\": \"horror\"},\n",
    "    {\"Movie Name\": \"pemallu\", \"genre\": \"comedy\"},\n",
    "    {\"Movie Name\": \"Harrypotter\", \"genre\": \"Fantasy\"},\n",
    "    {\"Movie Name\": \"Arjun reddy \", \"genre\": \"romance\"},\n",
    "    {\"Movie Name\": \"Uppena\", \"genre\": \" romance\"},\n",
    "    {\"Movie Name\": \"Nemo\", \"genre\": \"Animation\"},\n",
    "    {\"Movie Name\": \"Mathanati\", \"genre\": \"biopic\"}\n",
    "]\n",
    "\n",
    "# users\n",
    "user_preference = {\n",
    "    \"Ramu\": {\"Fantasy\", \"Drama\"},\n",
    "    \"Ravi\": {\"romance\", \"comedy\"},\n",
    "    \"Rohan\": {\"Drama\", \"biopic\"},\n",
    "    \"Rich\": {\"Drama\", \"Animation\"},\n",
    "    \"Rathod\": {\"action\", \"Drama\"}\n",
    "}\n",
    "\n",
    "\n",
    "def Movie_recommend_project():\n",
    "    try:\n",
    "\n",
    "        user_input = input(\"Enter user name: \").strip().title()\n",
    "        if user_input not in user_preference:\n",
    "            print(f\"User {user_input} is not in the preference list.\")\n",
    "            return\n",
    "        \n",
    "       \n",
    "        preferred_genre = {genre.lower() for genre in user_preference[user_input]}\n",
    "\n",
    "# empty List to store movies\n",
    "        recommendations_movies = []\n",
    "\n",
    " # Iterate of the movies \n",
    "        for movie in movies:\n",
    "            \n",
    "            if movie[\"genre\"].lower() in preferred_genre:\n",
    "                \n",
    "                recommendations_movies.append(movie[\"Movie Name\"])\n",
    "\n",
    "       \n",
    "        if recommendations_movies:\n",
    "            print(f\"{user_input}'s recommended movies are: {', '.join(recommendations_movies)}\")\n",
    "        else:\n",
    "            print(f\"No preferred movies found for {user_input}.\")\n",
    "    \n",
    "#  exceptions handling\n",
    "    except Exception as e:\n",
    "        print(f\"An error occurred: {e}\")\n",
    "\n",
    "while True:\n",
    "    \n",
    "# Calling function\n",
    "    Movie_recommend_project()\n",
    "\n",
    "    continue_input = input(\"To continue for movie recommendations, enter YES. To exit, enter NO: \").strip().upper()\n",
    "    # breaking the loop\n",
    "    if continue_input != 'YES':\n",
    "        break"
   ]
  },
  {
   "cell_type": "code",
   "execution_count": null,
   "id": "b78ba32c-f5fd-498c-9c90-035cacce5a8b",
   "metadata": {},
   "outputs": [],
   "source": []
  }
 ],
 "metadata": {
  "kernelspec": {
   "display_name": "Python 3 (ipykernel)",
   "language": "python",
   "name": "python3"
  },
  "language_info": {
   "codemirror_mode": {
    "name": "ipython",
    "version": 3
   },
   "file_extension": ".py",
   "mimetype": "text/x-python",
   "name": "python",
   "nbconvert_exporter": "python",
   "pygments_lexer": "ipython3",
   "version": "3.12.4"
  }
 },
 "nbformat": 4,
 "nbformat_minor": 5
}
